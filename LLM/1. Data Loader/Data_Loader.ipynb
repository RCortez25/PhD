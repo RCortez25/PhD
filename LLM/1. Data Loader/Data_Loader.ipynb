{
  "nbformat": 4,
  "nbformat_minor": 0,
  "metadata": {
    "colab": {
      "provenance": [],
      "authorship_tag": "ABX9TyNsBmM3PkuID3mLd/1s0bDG",
      "include_colab_link": true
    },
    "kernelspec": {
      "name": "python3",
      "display_name": "Python 3"
    },
    "language_info": {
      "name": "python"
    }
  },
  "cells": [
    {
      "cell_type": "markdown",
      "metadata": {
        "id": "view-in-github",
        "colab_type": "text"
      },
      "source": [
        "<a href=\"https://colab.research.google.com/github/RCortez25/PhD/blob/main/LLM/1.%20Data%20Loader/Data_Loader.ipynb\" target=\"_parent\"><img src=\"https://colab.research.google.com/assets/colab-badge.svg\" alt=\"Open In Colab\"/></a>"
      ]
    },
    {
      "cell_type": "code",
      "execution_count": 4,
      "metadata": {
        "id": "qx4zAQnUQbHv"
      },
      "outputs": [],
      "source": [
        "import requests\n",
        "import tiktoken"
      ]
    },
    {
      "cell_type": "code",
      "source": [
        "url = \"https://raw.githubusercontent.com/RCortez25/PhD/main/LLM/0.%20Tokenizer/the-veredict.txt\"\n",
        "response = requests.get(url)\n",
        "\n",
        "with open(\"the-veredict.txt\", \"r\", encoding=\"utf-8\") as f:\n",
        "    raw_text = f.read()\n",
        "\n",
        "oTokenizer = tiktoken.get_encoding(\"gpt2\")\n",
        "encoded_text = oTokenizer.encode(raw_text)\n",
        "print(f\"Number of tokens: {len(encoded_text)}\")"
      ],
      "metadata": {
        "colab": {
          "base_uri": "https://localhost:8080/"
        },
        "id": "ZpHrBUf8amHp",
        "outputId": "5a5103f3-59a9-45ce-facd-e68a237b820a"
      },
      "execution_count": 5,
      "outputs": [
        {
          "output_type": "stream",
          "name": "stdout",
          "text": [
            "Number of tokens: 5146\n"
          ]
        }
      ]
    },
    {
      "cell_type": "code",
      "source": [
        "# Remove the first 50 tokens for demonstration purposes\n",
        "encoded_sample = encoded_text[50:]"
      ],
      "metadata": {
        "id": "AE8v-f-ucp76"
      },
      "execution_count": 12,
      "outputs": []
    },
    {
      "cell_type": "markdown",
      "source": [
        "Now, in order to create input-target pairs one creates two variables\n",
        "\n",
        "$x$: inputs\n",
        "\n",
        "$y$: targets\n",
        "\n",
        "For example:\n",
        "\n",
        "$x=[1,2,3,4]\\\\y=[2,3,4,5]$\n",
        "\n",
        "The `context_size` determines how many tokens to include."
      ],
      "metadata": {
        "id": "E52G6-32dKQR"
      }
    },
    {
      "cell_type": "code",
      "source": [
        "context_size = 4\n",
        "\n",
        "# Creating input-target pair\n",
        "x = encoded_sample[:context_size]\n",
        "y = encoded_sample[1:context_size+1]\n",
        "\n",
        "print(f\"x: {x}\")\n",
        "print(f\"y:      {y}\")"
      ],
      "metadata": {
        "colab": {
          "base_uri": "https://localhost:8080/"
        },
        "id": "COWCxnzmc1ck",
        "outputId": "dccf265f-2f72-4d1e-d6f5-c69a4805df9e"
      },
      "execution_count": 14,
      "outputs": [
        {
          "output_type": "stream",
          "name": "stdout",
          "text": [
            "x: [290, 4920, 2241, 287]\n",
            "y:      [4920, 2241, 287, 257]\n"
          ]
        }
      ]
    },
    {
      "cell_type": "markdown",
      "source": [
        "Let's create a simple example of how the LLM will process the text in the autoregressive scheme"
      ],
      "metadata": {
        "id": "QXVcEnCsfps1"
      }
    },
    {
      "cell_type": "code",
      "source": [
        "for i in range(1, context_size+1):\n",
        "    context = encoded_sample[:i]\n",
        "    desired = encoded_sample[i]\n",
        "\n",
        "    print(context, \"---->\", desired)"
      ],
      "metadata": {
        "colab": {
          "base_uri": "https://localhost:8080/"
        },
        "id": "J9W6SLg6etBu",
        "outputId": "7a2c1dd2-8eb3-49e7-ff34-66602f42a47b"
      },
      "execution_count": 15,
      "outputs": [
        {
          "output_type": "stream",
          "name": "stdout",
          "text": [
            "[290] ----> 4920\n",
            "[290, 4920] ----> 2241\n",
            "[290, 4920, 2241] ----> 287\n",
            "[290, 4920, 2241, 287] ----> 257\n"
          ]
        }
      ]
    },
    {
      "cell_type": "code",
      "source": [],
      "metadata": {
        "id": "vc8UpsjEgHwB"
      },
      "execution_count": null,
      "outputs": []
    }
  ]
}