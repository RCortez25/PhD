{
  "nbformat": 4,
  "nbformat_minor": 0,
  "metadata": {
    "colab": {
      "provenance": [],
      "authorship_tag": "ABX9TyNbTCJM5j3gS6jdp2WyC1Hz",
      "include_colab_link": true
    },
    "kernelspec": {
      "name": "python3",
      "display_name": "Python 3"
    },
    "language_info": {
      "name": "python"
    }
  },
  "cells": [
    {
      "cell_type": "markdown",
      "metadata": {
        "id": "view-in-github",
        "colab_type": "text"
      },
      "source": [
        "<a href=\"https://colab.research.google.com/github/RCortez25/PhD/blob/main/LLM/1.%20Data%20Loader/Data_Loader.ipynb\" target=\"_parent\"><img src=\"https://colab.research.google.com/assets/colab-badge.svg\" alt=\"Open In Colab\"/></a>"
      ]
    },
    {
      "cell_type": "code",
      "execution_count": 20,
      "metadata": {
        "id": "qx4zAQnUQbHv"
      },
      "outputs": [],
      "source": [
        "import requests\n",
        "import tiktoken\n",
        "\n",
        "from torch.utils.data import Dataset, DataLoader"
      ]
    },
    {
      "cell_type": "code",
      "source": [
        "url = \"https://raw.githubusercontent.com/RCortez25/PhD/main/LLM/0.%20Tokenizer/the-veredict.txt\"\n",
        "response = requests.get(url)\n",
        "\n",
        "with open(\"the-veredict.txt\", \"r\", encoding=\"utf-8\") as f:\n",
        "    raw_text = f.read()\n",
        "\n",
        "oTokenizer = tiktoken.get_encoding(\"gpt2\")\n",
        "encoded_text = oTokenizer.encode(raw_text)\n",
        "print(f\"Number of tokens: {len(encoded_text)}\")"
      ],
      "metadata": {
        "colab": {
          "base_uri": "https://localhost:8080/"
        },
        "id": "ZpHrBUf8amHp",
        "outputId": "5a5103f3-59a9-45ce-facd-e68a237b820a"
      },
      "execution_count": null,
      "outputs": [
        {
          "output_type": "stream",
          "name": "stdout",
          "text": [
            "Number of tokens: 5146\n"
          ]
        }
      ]
    },
    {
      "cell_type": "code",
      "source": [
        "# Remove the first 50 tokens for demonstration purposes\n",
        "encoded_sample = encoded_text[50:]"
      ],
      "metadata": {
        "id": "AE8v-f-ucp76"
      },
      "execution_count": null,
      "outputs": []
    },
    {
      "cell_type": "markdown",
      "source": [
        "Now, in order to create input-target pairs one creates two variables\n",
        "\n",
        "$x$: inputs\n",
        "\n",
        "$y$: targets\n",
        "\n",
        "For example:\n",
        "\n",
        "$x=[1,2,3,4]\\\\y=[2,3,4,5]$\n",
        "\n",
        "The `context_size` determines how many tokens to include."
      ],
      "metadata": {
        "id": "E52G6-32dKQR"
      }
    },
    {
      "cell_type": "code",
      "source": [
        "context_size = 4\n",
        "\n",
        "# Creating input-target pair\n",
        "x = encoded_sample[:context_size]\n",
        "y = encoded_sample[1:context_size+1]\n",
        "\n",
        "print(f\"x: {x}\")\n",
        "print(f\"y:      {y}\")"
      ],
      "metadata": {
        "colab": {
          "base_uri": "https://localhost:8080/"
        },
        "id": "COWCxnzmc1ck",
        "outputId": "dccf265f-2f72-4d1e-d6f5-c69a4805df9e"
      },
      "execution_count": null,
      "outputs": [
        {
          "output_type": "stream",
          "name": "stdout",
          "text": [
            "x: [290, 4920, 2241, 287]\n",
            "y:      [4920, 2241, 287, 257]\n"
          ]
        }
      ]
    },
    {
      "cell_type": "markdown",
      "source": [
        "Let's create a simple example of how the LLM will process the text in the autoregressive scheme"
      ],
      "metadata": {
        "id": "QXVcEnCsfps1"
      }
    },
    {
      "cell_type": "code",
      "source": [
        "for i in range(1, context_size+1):\n",
        "    context = encoded_sample[:i]\n",
        "    desired = encoded_sample[i]\n",
        "\n",
        "    print(context, \"---->\", desired)"
      ],
      "metadata": {
        "colab": {
          "base_uri": "https://localhost:8080/"
        },
        "id": "J9W6SLg6etBu",
        "outputId": "7ff2565d-18f8-447b-8bdf-53a44bb3f953"
      },
      "execution_count": 16,
      "outputs": [
        {
          "output_type": "stream",
          "name": "stdout",
          "text": [
            "[290] ----> 4920\n",
            "[290, 4920] ----> 2241\n",
            "[290, 4920, 2241] ----> 287\n",
            "[290, 4920, 2241, 287] ----> 257\n"
          ]
        }
      ]
    },
    {
      "cell_type": "code",
      "source": [
        "# The same as before but with decoded text\n",
        "for i in range(1, context_size+1):\n",
        "    context = encoded_sample[:i]\n",
        "    desired = encoded_sample[i]\n",
        "\n",
        "    print(oTokenizer.decode(context), \"---->\", oTokenizer.decode([desired]))"
      ],
      "metadata": {
        "id": "vc8UpsjEgHwB",
        "colab": {
          "base_uri": "https://localhost:8080/"
        },
        "outputId": "329928b7-5fc2-4005-afde-de180a1a6889"
      },
      "execution_count": 18,
      "outputs": [
        {
          "output_type": "stream",
          "name": "stdout",
          "text": [
            " and ---->  established\n",
            " and established ---->  himself\n",
            " and established himself ---->  in\n",
            " and established himself in ---->  a\n"
          ]
        }
      ]
    },
    {
      "cell_type": "markdown",
      "source": [
        "Now, we have to gather all input and output pairs into tensors for the training of the LLM. One will have then and $x$ tensor of inputs and a $y$ tensor of outputs.\n",
        "\n",
        "The first entry of the $x$ tensor will be paired with the first entry of the $y$ tensor. The second entry of $x$ will be paired with the second entry of $y$, and so on."
      ],
      "metadata": {
        "id": "6uG1aVYJpkoS"
      }
    },
    {
      "cell_type": "code",
      "source": [
        "class TextDatasetV1(Dataset):\n",
        "    def __init__(self, text, tokenizer, max_length, context_size):\n",
        "        self.input_ids = []\n",
        "        self.target_ids = []\n",
        "\n",
        "        # Tokenize the input text\n",
        "        token_ids = tokenizer.encode(text, allowed_special={\"<|endoftext|>\"})"
      ],
      "metadata": {
        "id": "P1U8KJOzoWd4"
      },
      "execution_count": 21,
      "outputs": []
    },
    {
      "cell_type": "code",
      "source": [],
      "metadata": {
        "id": "_eQwx2fYweOA"
      },
      "execution_count": null,
      "outputs": []
    }
  ]
}