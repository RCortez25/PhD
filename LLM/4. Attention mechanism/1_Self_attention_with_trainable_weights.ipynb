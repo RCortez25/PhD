{
  "nbformat": 4,
  "nbformat_minor": 0,
  "metadata": {
    "colab": {
      "provenance": [],
      "authorship_tag": "ABX9TyOHLVpBhphSmQwWaMwP8J+T",
      "include_colab_link": true
    },
    "kernelspec": {
      "name": "python3",
      "display_name": "Python 3"
    },
    "language_info": {
      "name": "python"
    }
  },
  "cells": [
    {
      "cell_type": "markdown",
      "metadata": {
        "id": "view-in-github",
        "colab_type": "text"
      },
      "source": [
        "<a href=\"https://colab.research.google.com/github/RCortez25/PhD/blob/main/LLM/4.%20Attention%20mechanism/1_Self_attention_with_trainable_weights.ipynb\" target=\"_parent\"><img src=\"https://colab.research.google.com/assets/colab-badge.svg\" alt=\"Open In Colab\"/></a>"
      ]
    },
    {
      "cell_type": "markdown",
      "source": [
        "This kind of self attention mechanism is also called **scaled dot-product attention**.\n",
        "\n",
        "Now, we introduce trainable weight matrices that are updated during training. The are used so that the model learns to produce good context vectors. These matrices are:\n",
        "\n",
        "* $W_q$ for queries\n",
        "* $W_k$ for keys\n",
        "* $W_v$ for values\n",
        "\n",
        "These project the input vectors $x^{(i)}$ into yet another new query, key, and value vectors for each input vector."
      ],
      "metadata": {
        "id": "Cz4QozwqY6R4"
      }
    },
    {
      "cell_type": "code",
      "execution_count": 1,
      "metadata": {
        "id": "SdSdhTsUXHpN"
      },
      "outputs": [],
      "source": [
        "import torch\n",
        "\n",
        "# Create the inpur tensors\n",
        "inputs = torch.tensor(\n",
        "    [[0.43, 0.15, 0.89], # Your     (x^1)\n",
        "     [0.55, 0.87, 0.66], # journey  (x^2)\n",
        "     [0.57, 0.85, 0.64], # starts   (x^3)\n",
        "     [0.22, 0.58, 0.33], # with     (x^4)\n",
        "     [0.77, 0.25, 0.10], # one      (x^5)\n",
        "     [0.05, 0.80, 0.55]] # step     (x^6)\n",
        ")"
      ]
    },
    {
      "cell_type": "code",
      "source": [
        "# Select the second input vector for demonstration purposes\n",
        "x_2 = inputs[1]\n",
        "\n",
        "# Select the dimension of the inputs. 3D in this case\n",
        "dimension_inputs = inputs.shape[1]\n",
        "\n",
        "# Select the output dimension for the projected vectors. 2D in this case\n",
        "dimension_outputs = 2"
      ],
      "metadata": {
        "id": "Mn6U85m4ch3g"
      },
      "execution_count": 3,
      "outputs": []
    },
    {
      "cell_type": "code",
      "source": [
        "# Define the weight matrices, initialized in a random manner\n",
        "# requires_grad=False because we're not training yet\n",
        "torch.manual_seed(42)\n",
        "W_q = torch.nn.Parameter(torch.randn(dimension_inputs, dimension_outputs), requires_grad=False)\n",
        "W_k = torch.nn.Parameter(torch.randn(dimension_inputs, dimension_outputs), requires_grad=False)\n",
        "W_v = torch.nn.Parameter(torch.randn(dimension_inputs, dimension_outputs), requires_grad=False)"
      ],
      "metadata": {
        "id": "J0Ssmw81c25k"
      },
      "execution_count": 9,
      "outputs": []
    },
    {
      "cell_type": "code",
      "source": [
        "print(W_q)"
      ],
      "metadata": {
        "colab": {
          "base_uri": "https://localhost:8080/"
        },
        "id": "pvxEUQxCdXDp",
        "outputId": "ce805b10-8a56-4818-8b5c-cc87c6b066c4"
      },
      "execution_count": 10,
      "outputs": [
        {
          "output_type": "stream",
          "name": "stdout",
          "text": [
            "Parameter containing:\n",
            "tensor([[ 0.3367,  0.1288],\n",
            "        [ 0.2345,  0.2303],\n",
            "        [-1.1229, -0.1863]])\n"
          ]
        }
      ]
    },
    {
      "cell_type": "code",
      "source": [
        "print(W_k)"
      ],
      "metadata": {
        "colab": {
          "base_uri": "https://localhost:8080/"
        },
        "id": "UEjG8UQVd8fk",
        "outputId": "f1bc356b-ae0e-426d-919e-da322655de95"
      },
      "execution_count": 11,
      "outputs": [
        {
          "output_type": "stream",
          "name": "stdout",
          "text": [
            "Parameter containing:\n",
            "tensor([[ 2.2082, -0.6380],\n",
            "        [ 0.4617,  0.2674],\n",
            "        [ 0.5349,  0.8094]])\n"
          ]
        }
      ]
    },
    {
      "cell_type": "code",
      "source": [
        "print(W_v)"
      ],
      "metadata": {
        "colab": {
          "base_uri": "https://localhost:8080/"
        },
        "id": "Fx2ZDt9rd-GC",
        "outputId": "e96e0863-5702-4ce0-efaa-0d0221e5e53f"
      },
      "execution_count": 12,
      "outputs": [
        {
          "output_type": "stream",
          "name": "stdout",
          "text": [
            "Parameter containing:\n",
            "tensor([[ 1.1103, -1.6898],\n",
            "        [-0.9890,  0.9580],\n",
            "        [ 1.3221,  0.8172]])\n"
          ]
        }
      ]
    },
    {
      "cell_type": "markdown",
      "source": [
        "Now, in this case, let's obtain the query, key, and value vectors for the input vector $x^{(2)}$ corresponding to \"journey\"."
      ],
      "metadata": {
        "id": "R1uWWICUeuBE"
      }
    },
    {
      "cell_type": "code",
      "source": [
        "query_2 = x_2 @ W_q\n",
        "key_2 = x_2 @ W_k\n",
        "value_2 = x_2 @ W_v\n",
        "\n",
        "print(query_2)\n",
        "print(key_2)\n",
        "print(value_2)"
      ],
      "metadata": {
        "colab": {
          "base_uri": "https://localhost:8080/"
        },
        "id": "f_x_e7XGd_bt",
        "outputId": "588e1ece-8c64-4a46-f73a-0871fe9c54ca"
      },
      "execution_count": 13,
      "outputs": [
        {
          "output_type": "stream",
          "name": "stdout",
          "text": [
            "tensor([-0.3519,  0.1483])\n",
            "tensor([1.9692, 0.4159])\n",
            "tensor([0.6229, 0.4434])\n"
          ]
        }
      ]
    },
    {
      "cell_type": "markdown",
      "source": [
        "Now, obtain the key, query, and value vectors for all input vectors at once."
      ],
      "metadata": {
        "id": "fZvpXYkpfS1q"
      }
    },
    {
      "cell_type": "code",
      "source": [
        "keys = inputs @ W_k\n",
        "queries = inputs @ W_q\n",
        "values = inputs @ W_v\n",
        "\n",
        "print(\"Keys:\")\n",
        "print(keys)\n",
        "print(\"Queries:\")\n",
        "print(queries)\n",
        "print(\"Values:\")\n",
        "print(values)"
      ],
      "metadata": {
        "colab": {
          "base_uri": "https://localhost:8080/"
        },
        "id": "-8lp5Vone_5P",
        "outputId": "e1484053-edf9-4f21-d74d-2753f7f47e39"
      },
      "execution_count": 16,
      "outputs": [
        {
          "output_type": "stream",
          "name": "stdout",
          "text": [
            "Keys:\n",
            "tensor([[ 1.4948,  0.4861],\n",
            "        [ 1.9692,  0.4159],\n",
            "        [ 1.9934,  0.3816],\n",
            "        [ 0.9301,  0.2818],\n",
            "        [ 1.8692, -0.3435],\n",
            "        [ 0.7739,  0.6271]])\n",
            "Queries:\n",
            "tensor([[-0.8194, -0.0759],\n",
            "        [-0.3519,  0.1483],\n",
            "        [-0.3274,  0.1500],\n",
            "        [-0.1605,  0.1004],\n",
            "        [ 0.2056,  0.1381],\n",
            "        [-0.4132,  0.0882]])\n",
            "Values:\n",
            "tensor([[ 1.5058,  0.1444],\n",
            "        [ 0.6229,  0.4434],\n",
            "        [ 0.6384,  0.3741],\n",
            "        [ 0.1070,  0.4535],\n",
            "        [ 0.7399, -0.9799],\n",
            "        [-0.0085,  1.1313]])\n"
          ]
        }
      ]
    },
    {
      "cell_type": "markdown",
      "source": [
        "As can be seen, one has 3 matrices containing 6 vectors (rows) each, all of dimension 2 (columns)."
      ],
      "metadata": {
        "id": "a7E9950XfqBb"
      }
    },
    {
      "cell_type": "code",
      "source": [],
      "metadata": {
        "id": "yyCMMSy8feRe"
      },
      "execution_count": null,
      "outputs": []
    }
  ]
}