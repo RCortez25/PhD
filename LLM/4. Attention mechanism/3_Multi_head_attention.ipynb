{
  "nbformat": 4,
  "nbformat_minor": 0,
  "metadata": {
    "colab": {
      "provenance": [],
      "authorship_tag": "ABX9TyMnbzpybGsPNyaaG+n363/F",
      "include_colab_link": true
    },
    "kernelspec": {
      "name": "python3",
      "display_name": "Python 3"
    },
    "language_info": {
      "name": "python"
    }
  },
  "cells": [
    {
      "cell_type": "markdown",
      "metadata": {
        "id": "view-in-github",
        "colab_type": "text"
      },
      "source": [
        "<a href=\"https://colab.research.google.com/github/RCortez25/PhD/blob/main/LLM/4.%20Attention%20mechanism/3_Multi_head_attention.ipynb\" target=\"_parent\"><img src=\"https://colab.research.google.com/assets/colab-badge.svg\" alt=\"Open In Colab\"/></a>"
      ]
    },
    {
      "cell_type": "markdown",
      "source": [
        "# Multihead attention wrapper\n",
        "\n",
        "> In Multi head attention, one divides the attention mechanism into multiple heads, each operating independently.\n",
        ">\n",
        "> One stacks multiple single head attention layers. That is, one creates multiple instances of the self-attention mechanism, each with its own weights and then they are combined.\n",
        ">\n",
        "> Even though this is computationally expensive, it allows the LLM to capture complex patterns."
      ],
      "metadata": {
        "id": "X9_D0sh10oQn"
      }
    },
    {
      "cell_type": "code",
      "source": [
        "import torch\n",
        "import torch.nn as nn"
      ],
      "metadata": {
        "id": "LUE0If9LsVgA"
      },
      "execution_count": 1,
      "outputs": []
    },
    {
      "cell_type": "code",
      "execution_count": 2,
      "metadata": {
        "id": "A1eY5uMmyOp3"
      },
      "outputs": [],
      "source": [
        "class MultiHeadAttentionWrapper(nn.Module):\n",
        "    # Number of attention heads mut be given. These are the number of single\n",
        "    # self-attention mechanisms\n",
        "    def __init__(self, dimensions_in, dimensions_out, context_length,\n",
        "                 dropout, num_heads, qkv_bias=False):\n",
        "        super().__init__()\n",
        "        # Create a list containing all single self-attention mechanisms. These\n",
        "        # are created using the CausalAttention class\n",
        "        self.heads = nn.ModuleList(\n",
        "            [CausalAttention(dimensions_in, dimensions_out, context_length,\n",
        "                             dropout, qkv_bias) for _ in range(num_heads)]\n",
        "        )\n",
        "\n",
        "    # Method for concatenating all single self-attention heads along the\n",
        "    # columns\n",
        "    def forward(self, x):\n",
        "        return torch.cat([head(x) for head in self.heads], dim=-1)"
      ]
    },
    {
      "cell_type": "markdown",
      "source": [
        "> Let's repeat the code we had before to test the class"
      ],
      "metadata": {
        "id": "60oNTLlRsudl"
      }
    },
    {
      "cell_type": "code",
      "source": [
        "inputs = torch.tensor(\n",
        "    [[0.43, 0.15, 0.89], # Your     (x^1)\n",
        "     [0.55, 0.87, 0.66], # journey  (x^2)\n",
        "     [0.57, 0.85, 0.64], # starts   (x^3)\n",
        "     [0.22, 0.58, 0.33], # with     (x^4)\n",
        "     [0.77, 0.25, 0.10], # one      (x^5)\n",
        "     [0.05, 0.80, 0.55]] # step     (x^6)\n",
        ")\n",
        "\n",
        "batch = torch.stack([inputs, inputs], dim=0)"
      ],
      "metadata": {
        "id": "2eT2s9DmsziV"
      },
      "execution_count": 3,
      "outputs": []
    },
    {
      "cell_type": "code",
      "source": [
        "class CausalAttention(nn.Module):\n",
        "    def __init__(self, dimension_inputs, dimension_outputs, context_length,\n",
        "                 dropout, qkv_bias=False):\n",
        "        super().__init__()\n",
        "        self.dimension_outputs = dimension_outputs\n",
        "        # Initialize the matrices using Linear layers\n",
        "        self.W_q = nn.Linear(dimension_inputs, dimension_outputs, bias=qkv_bias)\n",
        "        self.W_k = nn.Linear(dimension_inputs, dimension_outputs, bias=qkv_bias)\n",
        "        self.W_v = nn.Linear(dimension_inputs, dimension_outputs, bias=qkv_bias)\n",
        "        # Initialize the dropout layer\n",
        "        self.dropout = nn.Dropout(dropout)\n",
        "        # Initialize the buffer, for automatically moving the model to CPU or GPU\n",
        "        self.register_buffer(\"mask\",\n",
        "                             torch.triu(torch.ones(context_length, context_length),\n",
        "                                        diagonal=1))\n",
        "\n",
        "    # Method to calculate the context vector\n",
        "    def forward(self, input_vectors):\n",
        "        # Obtain the relevant dimensions\n",
        "        batch_size, number_of_tokens, dimension_inputs = input_vectors.shape\n",
        "        queries = self.W_q(input_vectors)\n",
        "        keys = self.W_k(input_vectors)\n",
        "        values = self.W_v(input_vectors)\n",
        "\n",
        "        attention_scores = queries @ keys.transpose(1, 2)\n",
        "        attention_scores.masked_fill_(\n",
        "            self.mask.bool()[:number_of_tokens, :number_of_tokens], -torch.inf)\n",
        "\n",
        "        # Calculate attention weights\n",
        "        dimension_keys = keys.shape[-1]\n",
        "        attention_weights = torch.softmax(attention_scores / (dimension_keys ** 0.5), dim=-1)\n",
        "        # Apply dropout\n",
        "        attention_weights = self.dropout(attention_weights)\n",
        "\n",
        "        # Calculate and return the context vectors\n",
        "        context_vectors = attention_weights @ values\n",
        "\n",
        "        return context_vectors"
      ],
      "metadata": {
        "id": "DIhS6tcbr2s_"
      },
      "execution_count": 4,
      "outputs": []
    },
    {
      "cell_type": "code",
      "source": [
        "# Test the wrapper\n",
        "torch.manual_seed(123)\n",
        "context_length = batch.shape[1] # Number of tokens\n",
        "dimension_inputs = 3\n",
        "dimension_outputs = 2\n",
        "oMultiHeadAttention = MultiHeadAttentionWrapper(dimension_inputs,\n",
        "                                                dimension_outputs,\n",
        "                                                context_length,\n",
        "                                                dropout=0.0, num_heads=2)\n",
        "context_vectors = oMultiHeadAttention(batch)\n",
        "print(context_vectors)"
      ],
      "metadata": {
        "colab": {
          "base_uri": "https://localhost:8080/"
        },
        "id": "8U8J-dTYsYgA",
        "outputId": "df5bd564-b7a3-4942-f18a-8fdcad390ec6"
      },
      "execution_count": 5,
      "outputs": [
        {
          "output_type": "stream",
          "name": "stdout",
          "text": [
            "tensor([[[-0.4519,  0.2216,  0.4772,  0.1063],\n",
            "         [-0.5874,  0.0058,  0.5891,  0.3257],\n",
            "         [-0.6300, -0.0632,  0.6202,  0.3860],\n",
            "         [-0.5675, -0.0843,  0.5478,  0.3589],\n",
            "         [-0.5526, -0.0981,  0.5321,  0.3428],\n",
            "         [-0.5299, -0.1081,  0.5077,  0.3493]],\n",
            "\n",
            "        [[-0.4519,  0.2216,  0.4772,  0.1063],\n",
            "         [-0.5874,  0.0058,  0.5891,  0.3257],\n",
            "         [-0.6300, -0.0632,  0.6202,  0.3860],\n",
            "         [-0.5675, -0.0843,  0.5478,  0.3589],\n",
            "         [-0.5526, -0.0981,  0.5321,  0.3428],\n",
            "         [-0.5299, -0.1081,  0.5077,  0.3493]]], grad_fn=<CatBackward0>)\n"
          ]
        }
      ]
    },
    {
      "cell_type": "code",
      "source": [
        "context_vectors.shape"
      ],
      "metadata": {
        "colab": {
          "base_uri": "https://localhost:8080/"
        },
        "id": "g4LYOpo9uPxP",
        "outputId": "d42390e2-3af3-46c6-c6b4-9605291c2b29"
      },
      "execution_count": 6,
      "outputs": [
        {
          "output_type": "execute_result",
          "data": {
            "text/plain": [
              "torch.Size([2, 6, 4])"
            ]
          },
          "metadata": {},
          "execution_count": 6
        }
      ]
    },
    {
      "cell_type": "markdown",
      "source": [
        "> The dimensions here represent:\n",
        "* 2: The number of batches\n",
        "* 6: The number of tokens, or input vectors, in each batch\n",
        "* 4: Ths is because we selected two heads `num_heads=2`. Therefore, since the output dimension of each head is 2, then 2 heads add 2 + 2 = 4."
      ],
      "metadata": {
        "id": "VN52mRBzuRFc"
      }
    },
    {
      "cell_type": "markdown",
      "source": [
        "# Multi-head attention with weight splits\n",
        "\n",
        "> Now, the problem with the wrapper is that is not very efficient because of the matrix multiplications involved. We multiply the inputs by two matrices (`num_heads=2`). We can achieve the same result by performing only one matrix multiplication.Let's combine the two classes CausalAttention and MultiHeadAttentionWrapper together and add some other modifications."
      ],
      "metadata": {
        "id": "2VFMEEO82u1H"
      }
    },
    {
      "cell_type": "code",
      "source": [
        "class MultiHeadAttention(nn.Module):\n",
        "    def __init__(self, dimension_inputs, dimension_outputs, context_length,\n",
        "                 dropout, num_heads, qkv_bias=False):\n",
        "        super().__init__()\n",
        "        assert (dimension_outputs % num_heads == 0), \"Dimension outputs must be \\\n",
        "                                                    divisible by number of heads\" # 1\n",
        "        self.dimension_outputs = dimension_outputs\n",
        "        self.num_heads = num_heads\n",
        "        self.head_dimension = dimension_outputs // num_heads # 2\n",
        "\n",
        "        #Initialize weight matrices\n",
        "        self.W_query = nn.Linear(dimension_inputs, dimension_outputs, bias=qkv_bias)\n",
        "        self.W_key = nn.Linear(dimension_inputs, dimension_outputs, bias=qkv_bias)\n",
        "        self.W_value = nn.Linear(dimension_inputs, dimension_outputs, bias=qkv_bias)\n",
        "        # Initialize a linear layer to combine head outputs\n",
        "        self.output_projection = nn.Linear(dimension_outputs, dimension_outputs) # 3\n",
        "        # Initialize the dropout layer\n",
        "        self.dropout = nn.Dropout(dropout)\n",
        "        self.register_buffer(\"mask\",\n",
        "                             torch.triu(torch.ones(context_length, context_length),\n",
        "                                        diagonal=1))\n",
        "\n",
        "    # Method for calculating the context vectors\n",
        "    def forward(self, input_vectors):\n",
        "        batch_size, number_of_tokens, dimension_inputs = input_vectors.shape\n",
        "\n",
        "        # Calculate keys, queries, and values\n",
        "        queries = self.W_query(input_vectors)\n",
        "        keys = self.W_key(input_vectors)\n",
        "        values = self.W_value(input_vectors)\n",
        "\n",
        "        # Split the obtained matrices by adding a \"number of heads\" dimension\n",
        "        # that is, the output dimension will be splitted as\n",
        "        # (batch_size, number_of_tokens, dimension_outputs) will be\n",
        "        # (batch_size, number_of_tokens, num_heads, head_dimension)\n",
        "        keys = keys.view(batch_size, number_of_tokens, self.num_heads, self.head_dimension)\n",
        "        values = values.view(batch_size, number_of_tokens, self.num_heads, self.head_dimension)\n",
        "        queries = queries.view(batch_size, number_of_tokens, self.num_heads, self.head_dimension)\n",
        "\n",
        "        # Transpose for performing calculations\n",
        "        keys = keys.transpose(1, 2)\n",
        "        values = values.transpose(1, 2)\n",
        "        queries = queries.transpose(1, 2)\n",
        "\n",
        "        # Calculate attention scores\n",
        "        attention_scores = queries @ keys.transpose(2, 3)\n",
        "\n",
        "        # Mask future tokens\n",
        "        attention_scores.masked_fill_(\n",
        "            self.mask.bool()[:number_of_tokens, :number_of_tokens], -torch.inf)\n",
        "\n",
        "        # Calculate attention weights\n",
        "        attention_weights = torch.softmax(attention_scores / (keys.shape[-1] ** 0.5), dim=-1)\n",
        "\n",
        "        # Dropout\n",
        "        attention_weights = self.dropout(attention_weights)\n",
        "\n",
        "        # Calculate context vectors\n",
        "        context_vectors = attention_weights @ values\n",
        "\n",
        "        # Swap dimensions\n",
        "        context_vectors = context_vectors.transpose(1, 2)\n",
        "\n",
        "        # Combine context vectors for each head into a single representation\n",
        "        # Contiguous ensures matrices are in the same blocks of memory\n",
        "        context_vectors = context_vectors.contiguous().view(batch_size, number_of_tokens, self.dimension_outputs)\n",
        "\n",
        "        # Apply the output projection (optional)\n",
        "        context_vectors = self.output_projection(context_vectors)\n",
        "\n",
        "        return context_vectors"
      ],
      "metadata": {
        "id": "cSaNH15H2uV3"
      },
      "execution_count": 23,
      "outputs": []
    },
    {
      "cell_type": "markdown",
      "source": [
        "> Comments:\n",
        ">\n",
        "> * 1: Use the `assert` to ensure that dimension is correct\n",
        "* 2: Calculate the dimension of each head\n",
        "* 3:  "
      ],
      "metadata": {
        "id": "ntLLnb6Ciq22"
      }
    },
    {
      "cell_type": "markdown",
      "source": [
        "# Simple example of multihead attention\n",
        "\n",
        "## Step 1: Inputs\n",
        "\n",
        "Say we have 1 batch of 3 tokens, each in a 6-dimensional space. Say the input batch is \"The cat sleeps\". That is\n",
        "\n",
        "`batch_size=1` \\\n",
        "`number_of_tokens=3` \\\n",
        "`dimension_inputs=6`"
      ],
      "metadata": {
        "id": "xC_hjXmrgV0b"
      }
    },
    {
      "cell_type": "code",
      "source": [
        "x = torch.tensor([[\n",
        "    [1.0, 2.0, 3.0, 4.0, 5.0, 6.0], # The\n",
        "    [6.0, 5.0, 4.0, 3.0, 2.0, 1.0], # cat\n",
        "    [1.0, 1.0, 1.0, 1.0, 1.0, 1.0]  # sleeps\n",
        "]])"
      ],
      "metadata": {
        "id": "LGCsUfZ65F1E"
      },
      "execution_count": 8,
      "outputs": []
    },
    {
      "cell_type": "markdown",
      "source": [
        "## Step 2: Decide the output dimension and the number of heads\n",
        "\n",
        "`dimension_outputs=6` \\\n",
        "`num_heads=2`\n",
        "\n",
        "Recall the the output dimension is the dimension of the context vector for each input token. Typically, in GPT models `dimension_input=dimension_outputs`.\n",
        "\n",
        "For GPT models, the number of heads is 96, but in this example we'll keep it simple.\n",
        "\n",
        "This decision gives\n",
        "\n",
        "`head_dimension = dimension_outputs/num_heads = 6/2 = 3`\n",
        "\n",
        "## Spet 3: Initialize trainable weight matrices\n",
        "\n",
        "Initialize `W_query, W_key_, W_value`. Their dimension must be\n",
        "\n",
        "$$dimension\\_inputs\\times dimension\\_outputs$$\n",
        "\n",
        "so, in this case one has\n",
        "\n",
        "$$6\\times6$$\n",
        "\n",
        "this is done so in order to make matrix multiplication plausible."
      ],
      "metadata": {
        "id": "dpcNfOQWhYSM"
      }
    },
    {
      "cell_type": "code",
      "source": [
        "W_query = nn.Linear(6, 6)\n",
        "W_key = nn.Linear(6, 6)\n",
        "W_value = nn.Linear(6, 6)\n",
        "\n",
        "print(W_query)\n",
        "print(W_key)\n",
        "print(W_value)"
      ],
      "metadata": {
        "colab": {
          "base_uri": "https://localhost:8080/"
        },
        "id": "TGbjnjxHg_wj",
        "outputId": "6b534c2c-9cfb-4cb0-b2c1-4bb06298bf63"
      },
      "execution_count": 9,
      "outputs": [
        {
          "output_type": "stream",
          "name": "stdout",
          "text": [
            "Linear(in_features=6, out_features=6, bias=True)\n",
            "Linear(in_features=6, out_features=6, bias=True)\n",
            "Linear(in_features=6, out_features=6, bias=True)\n"
          ]
        }
      ]
    },
    {
      "cell_type": "markdown",
      "source": [
        "Print the actual values of the matrices. Note that they contain bias which in this case is not important."
      ],
      "metadata": {
        "id": "y-Mb6YWwkrpK"
      }
    },
    {
      "cell_type": "code",
      "metadata": {
        "colab": {
          "base_uri": "https://localhost:8080/"
        },
        "id": "86f225f9",
        "outputId": "b66c96d1-c4d3-4fd1-adba-ddb3e53d9482"
      },
      "source": [
        "print(\"W_query weights:\\n\", W_query.weight)\n",
        "print(\"W_query bias:\\n\", W_query.bias)\n",
        "\n",
        "print(\"\\nW_key weights:\\n\", W_key.weight)\n",
        "print(\"W_key bias:\\n\", W_key.bias)\n",
        "\n",
        "print(\"\\nW_value weights:\\n\", W_value.weight)\n",
        "print(\"W_value bias:\\n\", W_value.bias)"
      ],
      "execution_count": 10,
      "outputs": [
        {
          "output_type": "stream",
          "name": "stdout",
          "text": [
            "W_query weights:\n",
            " Parameter containing:\n",
            "tensor([[-0.3453, -0.1171, -0.2875,  0.0270, -0.0762, -0.2190],\n",
            "        [-0.0371,  0.3868, -0.0322,  0.0130, -0.0637,  0.0642],\n",
            "        [ 0.3638,  0.2496,  0.1449,  0.0887,  0.0963,  0.1577],\n",
            "        [-0.0528, -0.3794, -0.2525,  0.3485,  0.0244, -0.3307],\n",
            "        [ 0.0644,  0.3373, -0.3858, -0.2748, -0.1626,  0.0164],\n",
            "        [-0.0952, -0.0449, -0.3980,  0.1912,  0.3583,  0.2495]],\n",
            "       requires_grad=True)\n",
            "W_query bias:\n",
            " Parameter containing:\n",
            "tensor([-0.2891, -0.3291,  0.1695,  0.0092,  0.1674, -0.3989],\n",
            "       requires_grad=True)\n",
            "\n",
            "W_key weights:\n",
            " Parameter containing:\n",
            "tensor([[-0.0243,  0.2879,  0.1894,  0.0149,  0.0803, -0.0387],\n",
            "        [-0.2245, -0.1543, -0.2486,  0.3391,  0.2247,  0.1428],\n",
            "        [-0.3131,  0.3150,  0.1280,  0.2824, -0.1606,  0.0865],\n",
            "        [ 0.3986,  0.2746,  0.3274, -0.0857,  0.3110, -0.3198],\n",
            "        [ 0.0353, -0.2299, -0.0952, -0.1046,  0.0305,  0.3716],\n",
            "        [ 0.2021, -0.0017,  0.2898, -0.2092,  0.2104, -0.0379]],\n",
            "       requires_grad=True)\n",
            "W_key bias:\n",
            " Parameter containing:\n",
            "tensor([-0.0710,  0.0478, -0.3128,  0.0472,  0.1373,  0.3490],\n",
            "       requires_grad=True)\n",
            "\n",
            "W_value weights:\n",
            " Parameter containing:\n",
            "tensor([[-0.1271,  0.1470,  0.4080, -0.1751,  0.3881, -0.2027],\n",
            "        [ 0.1800,  0.1599,  0.1140,  0.3228, -0.1650,  0.1073],\n",
            "        [ 0.0023, -0.3071, -0.0991, -0.2726,  0.1805,  0.0367],\n",
            "        [ 0.0400, -0.1239,  0.0020, -0.1270,  0.1173,  0.3965],\n",
            "        [ 0.0618, -0.1808, -0.2494,  0.0312, -0.3029, -0.3069],\n",
            "        [-0.2657, -0.1387,  0.0302,  0.2811,  0.1581,  0.3128]],\n",
            "       requires_grad=True)\n",
            "W_value bias:\n",
            " Parameter containing:\n",
            "tensor([-0.2563,  0.0345, -0.3629,  0.2342,  0.0851,  0.3949],\n",
            "       requires_grad=True)\n"
          ]
        }
      ]
    },
    {
      "cell_type": "markdown",
      "source": [
        "## Step 4: Calculate Keys, Queries, and Values matrices\n",
        "\n",
        "$$inputs * W_{keys}$$\n",
        "$$inputs * W_{queries}$$\n",
        "$$inputs * W_{values}$$\n",
        "\n",
        "The resulting dimensions will be\n",
        "\n",
        "$$1\\times3\\times6$$"
      ],
      "metadata": {
        "id": "3yTuUo93lKkY"
      }
    },
    {
      "cell_type": "code",
      "source": [
        "Keys = W_key(x)\n",
        "print(\"Keys:\\n\", Keys)\n",
        "\n",
        "Queries = W_query(x)\n",
        "print(\"\\nQueries:\\n\", Queries)\n",
        "\n",
        "Values = W_value(x)\n",
        "print(\"\\nValues:\\n\", Values)"
      ],
      "metadata": {
        "colab": {
          "base_uri": "https://localhost:8080/"
        },
        "id": "tx5p9WZilLi_",
        "outputId": "830131f9-b852-45b6-abdf-75f6f4defa91"
      },
      "execution_count": 11,
      "outputs": [
        {
          "output_type": "stream",
          "name": "stdout",
          "text": [
            "Keys:\n",
            " tensor([[[ 1.2777,  2.1052,  1.2342,  1.2710,  1.3911,  1.4051],\n",
            "         [ 2.1467, -1.4555,  0.5085,  5.1667, -1.0620,  2.4676],\n",
            "         [ 0.4384,  0.1270,  0.0256,  0.9534,  0.1451,  0.8025]]],\n",
            "       grad_fn=<ViewBackward0>)\n",
            "\n",
            "Queries:\n",
            " tensor([[[-3.3182e+00,  4.2931e-01,  3.2498e+00, -2.0282e+00, -2.0650e+00,\n",
            "           2.2758e+00],\n",
            "         [-4.3869e+00,  1.2290e+00,  4.7963e+00, -2.4509e+00, -4.3620e-01,\n",
            "          -1.2468e+00],\n",
            "         [-1.3072e+00,  1.8372e-03,  1.2705e+00, -6.3332e-01, -2.3778e-01,\n",
            "          -1.3795e-01]]], grad_fn=<ViewBackward0>)\n",
            "\n",
            "Values:\n",
            " tensor([[[ 1.1584,  1.9865, -1.2399,  2.4898, -4.1935,  3.7342],\n",
            "         [ 1.3962,  3.1158, -2.7011,  0.1129, -2.2644, -0.2995],\n",
            "         [ 0.1818,  0.7535, -0.8222,  0.5391, -0.8618,  0.7727]]],\n",
            "       grad_fn=<ViewBackward0>)\n"
          ]
        }
      ]
    },
    {
      "cell_type": "markdown",
      "source": [
        "## Step 5: Unroll the last dimension of the Keys, Queries, Values matrices to include the number of heads and the dimension of heads.\n",
        "\n",
        "\n",
        "(batch_size, number_of_tokens, dimension_outputs) ->\n",
        "(batch_size, number_of_tokens, num_heads, head_dimension)\n",
        "\n",
        "that is\n",
        "\n",
        "(1, 3, 6) ->\n",
        "(1, 3, 2, 3)\n"
      ],
      "metadata": {
        "id": "t069_Xwyswwu"
      }
    },
    {
      "cell_type": "code",
      "source": [
        "reshaped_queries = Queries.view(1, 3, 2, 3)\n",
        "reshaped_keys = Keys.view(1, 3, 2, 3)\n",
        "reshaped_values = Values.view(1, 3, 2, 3)"
      ],
      "metadata": {
        "id": "dR1yOoVlr8-q"
      },
      "execution_count": 12,
      "outputs": []
    },
    {
      "cell_type": "code",
      "source": [
        "print(\"Reshaped queries:\\n\", reshaped_queries)\n",
        "print(\"\\nReshaped keys:\\n\", reshaped_keys)\n",
        "print(\"\\nReshaped values:\\n\", reshaped_values)"
      ],
      "metadata": {
        "colab": {
          "base_uri": "https://localhost:8080/"
        },
        "id": "rgHdEYamuEFv",
        "outputId": "794c482c-c9a2-4b04-c949-b7f8ea57a83e"
      },
      "execution_count": 13,
      "outputs": [
        {
          "output_type": "stream",
          "name": "stdout",
          "text": [
            "Reshaped queries:\n",
            " tensor([[[[-3.3182e+00,  4.2931e-01,  3.2498e+00],\n",
            "          [-2.0282e+00, -2.0650e+00,  2.2758e+00]],\n",
            "\n",
            "         [[-4.3869e+00,  1.2290e+00,  4.7963e+00],\n",
            "          [-2.4509e+00, -4.3620e-01, -1.2468e+00]],\n",
            "\n",
            "         [[-1.3072e+00,  1.8372e-03,  1.2705e+00],\n",
            "          [-6.3332e-01, -2.3778e-01, -1.3795e-01]]]], grad_fn=<ViewBackward0>)\n",
            "\n",
            "Reshaped keys:\n",
            " tensor([[[[ 1.2777,  2.1052,  1.2342],\n",
            "          [ 1.2710,  1.3911,  1.4051]],\n",
            "\n",
            "         [[ 2.1467, -1.4555,  0.5085],\n",
            "          [ 5.1667, -1.0620,  2.4676]],\n",
            "\n",
            "         [[ 0.4384,  0.1270,  0.0256],\n",
            "          [ 0.9534,  0.1451,  0.8025]]]], grad_fn=<ViewBackward0>)\n",
            "\n",
            "Reshaped values:\n",
            " tensor([[[[ 1.1584,  1.9865, -1.2399],\n",
            "          [ 2.4898, -4.1935,  3.7342]],\n",
            "\n",
            "         [[ 1.3962,  3.1158, -2.7011],\n",
            "          [ 0.1129, -2.2644, -0.2995]],\n",
            "\n",
            "         [[ 0.1818,  0.7535, -0.8222],\n",
            "          [ 0.5391, -0.8618,  0.7727]]]], grad_fn=<ViewBackward0>)\n"
          ]
        }
      ]
    },
    {
      "cell_type": "markdown",
      "source": [
        "The first groud of two elements of each matrix corresponds to the first token, and each element corresponds to one head. For instance, for the reshaped queries matrix:\n",
        "\n",
        "[-1.4601,  1.6082, -0.4082], \\\n",
        "[ 0.1709,  2.5136, -0.9453]\n",
        "\n",
        "corresponds to the first token \"The\", and each row corresponds to one head each. Then\n",
        "\n",
        "[-0.1715, -0.0334,  0.6383], \\\n",
        "[-0.4673, -0.3364, -4.3318]\n",
        "\n",
        "corresponds to the second token \"cat\", and each row corresponds to one head each. And so on.\n",
        "\n",
        "Lastly, each token is now in 3 dimensions, hence the 3 elements of each row, because the head dimension equals 3.\n",
        "\n",
        "Recall then that each head pays attention to each token separatedly."
      ],
      "metadata": {
        "id": "BePDz3WcuhWk"
      }
    },
    {
      "cell_type": "markdown",
      "source": [
        "## Step 6: Group by heads\n",
        "\n",
        "For performing calculations we need to reshape the matrices to be of the following format\n",
        "\n",
        "(batch_size, number_of_tokens, num_heads, head_dimension) ->\n",
        "(batch_size, num_heads, number_of_tokens, head_dimension)\n",
        "\n",
        "that is\n",
        "\n",
        "(1, 3, 2, 3) ->\n",
        "(1, 2, 3, 3)\n",
        "\n",
        "Now, given that we have indexes 0,1,2,3 and we want to interchange indexes 1 and 2, we transpose the matrix using these indexes."
      ],
      "metadata": {
        "id": "OGwUam8TwMsB"
      }
    },
    {
      "cell_type": "code",
      "source": [
        "transposed_queries = reshaped_queries.transpose(1, 2) # This means interchanging indexes 1 and 2\n",
        "transposed_keys = reshaped_keys.transpose(1, 2)\n",
        "transposed_values = reshaped_values.transpose(1, 2)"
      ],
      "metadata": {
        "id": "GO3NeS_euFU6"
      },
      "execution_count": 14,
      "outputs": []
    },
    {
      "cell_type": "code",
      "source": [
        "print(\"Transposed queries:\\n\", transposed_queries)\n",
        "print(\"\\nTransposed keys:\\n\", transposed_keys)\n",
        "print(\"\\nTransposed values:\\n\", transposed_values)\n",
        "#"
      ],
      "metadata": {
        "colab": {
          "base_uri": "https://localhost:8080/"
        },
        "id": "8dgJTT_UxFmq",
        "outputId": "2ae4c25d-2a77-44f8-b42b-a8f65e17f310"
      },
      "execution_count": 15,
      "outputs": [
        {
          "output_type": "stream",
          "name": "stdout",
          "text": [
            "Transposed queries:\n",
            " tensor([[[[-3.3182e+00,  4.2931e-01,  3.2498e+00],\n",
            "          [-4.3869e+00,  1.2290e+00,  4.7963e+00],\n",
            "          [-1.3072e+00,  1.8372e-03,  1.2705e+00]],\n",
            "\n",
            "         [[-2.0282e+00, -2.0650e+00,  2.2758e+00],\n",
            "          [-2.4509e+00, -4.3620e-01, -1.2468e+00],\n",
            "          [-6.3332e-01, -2.3778e-01, -1.3795e-01]]]],\n",
            "       grad_fn=<TransposeBackward0>)\n",
            "\n",
            "Transposed keys:\n",
            " tensor([[[[ 1.2777,  2.1052,  1.2342],\n",
            "          [ 2.1467, -1.4555,  0.5085],\n",
            "          [ 0.4384,  0.1270,  0.0256]],\n",
            "\n",
            "         [[ 1.2710,  1.3911,  1.4051],\n",
            "          [ 5.1667, -1.0620,  2.4676],\n",
            "          [ 0.9534,  0.1451,  0.8025]]]], grad_fn=<TransposeBackward0>)\n",
            "\n",
            "Transposed values:\n",
            " tensor([[[[ 1.1584,  1.9865, -1.2399],\n",
            "          [ 1.3962,  3.1158, -2.7011],\n",
            "          [ 0.1818,  0.7535, -0.8222]],\n",
            "\n",
            "         [[ 2.4898, -4.1935,  3.7342],\n",
            "          [ 0.1129, -2.2644, -0.2995],\n",
            "          [ 0.5391, -0.8618,  0.7727]]]], grad_fn=<TransposeBackward0>)\n"
          ]
        }
      ]
    },
    {
      "cell_type": "markdown",
      "source": [
        "Now, in the result, the first element of each matrix corresponds to the 3 tokens for the first head, and the second element corresponds to the 3 tokens for the second head.\n",
        "\n",
        "That is, for the queries matrix\n",
        "\n",
        "[[-1.4601,  1.6082, -0.4082], \\\n",
        "[-0.1715, -0.0334,  0.6383], \\\n",
        "[ 0.0160,  0.3210,  0.2834]]\n",
        "\n",
        "corresponds to the 3 tokens for the first head, and\n",
        "\n",
        "[[ 0.1709,  2.5136, -0.9453], \\\n",
        "[-0.4673, -0.3364, -4.3318], \\\n",
        "[-0.1095,  0.5651, -0.8929]]\n",
        "\n",
        "corresponds to the 3 tokens for the second head."
      ],
      "metadata": {
        "id": "7GUA3qQgxwyy"
      }
    },
    {
      "cell_type": "markdown",
      "source": [
        "## Step 7: Find attention scores (self-attention)\n",
        "\n",
        "$$queries * keys.transpose(2,3)$$\n",
        "\n",
        "We need to transpose"
      ],
      "metadata": {
        "id": "3zblYxGsymvI"
      }
    },
    {
      "cell_type": "code",
      "source": [
        "attention_scores = transposed_queries @ transposed_keys.transpose(2, 3)\n",
        "print(attention_scores)"
      ],
      "metadata": {
        "colab": {
          "base_uri": "https://localhost:8080/"
        },
        "id": "vBrCjgl5xHPC",
        "outputId": "2ddf4878-859a-4925-edc8-0b1663152a27"
      },
      "execution_count": 16,
      "outputs": [
        {
          "output_type": "stream",
          "name": "stdout",
          "text": [
            "tensor([[[[  0.6750,  -6.0953,  -1.3173],\n",
            "          [  2.9018,  -8.7669,  -1.6448],\n",
            "          [ -0.0983,  -2.1627,  -0.5404]],\n",
            "\n",
            "         [[ -2.2529,  -2.6703,  -0.4068],\n",
            "          [ -5.4737, -15.2760,  -3.4004],\n",
            "          [ -1.3295,  -3.3600,  -0.7490]]]], grad_fn=<UnsafeViewBackward0>)\n"
          ]
        }
      ]
    },
    {
      "cell_type": "markdown",
      "source": [
        "Once again, each big block corresponds to each head. These block corresponds to attention scores. Recall that each row is a word and each column is also a word.\n",
        "\n",
        "So the first element 1.6042 corresponds to the attention score between \"The\" and \"The\". The element 1.9762 is the attention score between \"The\" and \"cat\". The element 0.1200 corresponds to the attention score beteween \"cat\" and \"sleeps\". All these correspond to the first head and the same applies for the second big block which corresponds to the second head."
      ],
      "metadata": {
        "id": "ZpHdAocX1SGE"
      }
    },
    {
      "cell_type": "markdown",
      "source": [
        "## Step 8: Calculate attention weights\n",
        "\n",
        "Recall that in causal attention one masks future tokens. Firts, we mask future tokens, then we divide by the \"scaled dot-product self-attention\", then we apply softmax."
      ],
      "metadata": {
        "id": "cTA-DpU62-yg"
      }
    },
    {
      "cell_type": "code",
      "metadata": {
        "colab": {
          "base_uri": "https://localhost:8080/"
        },
        "id": "41723ff2",
        "outputId": "f8123cc6-9c86-4aef-f6c1-241953039e50"
      },
      "source": [
        "mask = torch.triu(torch.ones(attention_scores.size(-2), attention_scores.size(-1)), diagonal=1).bool()\n",
        "attention_scores_masked = attention_scores.masked_fill(mask, -torch.inf)\n",
        "print(\"Masked attention scores:\\n\", attention_scores_masked)"
      ],
      "execution_count": 17,
      "outputs": [
        {
          "output_type": "stream",
          "name": "stdout",
          "text": [
            "Masked attention scores:\n",
            " tensor([[[[  0.6750,     -inf,     -inf],\n",
            "          [  2.9018,  -8.7669,     -inf],\n",
            "          [ -0.0983,  -2.1627,  -0.5404]],\n",
            "\n",
            "         [[ -2.2529,     -inf,     -inf],\n",
            "          [ -5.4737, -15.2760,     -inf],\n",
            "          [ -1.3295,  -3.3600,  -0.7490]]]], grad_fn=<MaskedFillBackward0>)\n"
          ]
        }
      ]
    },
    {
      "cell_type": "code",
      "metadata": {
        "colab": {
          "base_uri": "https://localhost:8080/"
        },
        "id": "143065a9",
        "outputId": "31668d34-d5c3-4a3c-8e95-2634216db1d4"
      },
      "source": [
        "head_dimension = transposed_keys.size(-1) # Get the head dimension\n",
        "attention_scores_scaled = attention_scores_masked / (head_dimension ** 0.5)\n",
        "print(\"Scaled attention scores:\\n\", attention_scores_scaled)"
      ],
      "execution_count": 18,
      "outputs": [
        {
          "output_type": "stream",
          "name": "stdout",
          "text": [
            "Scaled attention scores:\n",
            " tensor([[[[ 0.3897,    -inf,    -inf],\n",
            "          [ 1.6754, -5.0615,    -inf],\n",
            "          [-0.0567, -1.2487, -0.3120]],\n",
            "\n",
            "         [[-1.3007,    -inf,    -inf],\n",
            "          [-3.1602, -8.8196,    -inf],\n",
            "          [-0.7676, -1.9399, -0.4324]]]], grad_fn=<DivBackward0>)\n"
          ]
        }
      ]
    },
    {
      "cell_type": "code",
      "metadata": {
        "colab": {
          "base_uri": "https://localhost:8080/"
        },
        "id": "1c0fc614",
        "outputId": "49b69e79-46b2-4823-ae09-c80c599f9f83"
      },
      "source": [
        "attention_weights = torch.softmax(attention_scores_scaled, dim=-1)\n",
        "print(\"Attention weights:\\n\", attention_weights)"
      ],
      "execution_count": 19,
      "outputs": [
        {
          "output_type": "stream",
          "name": "stdout",
          "text": [
            "Attention weights:\n",
            " tensor([[[[1.0000, 0.0000, 0.0000],\n",
            "          [0.9988, 0.0012, 0.0000],\n",
            "          [0.4812, 0.1461, 0.3727]],\n",
            "\n",
            "         [[1.0000, 0.0000, 0.0000],\n",
            "          [0.9965, 0.0035, 0.0000],\n",
            "          [0.3693, 0.1144, 0.5163]]]], grad_fn=<SoftmaxBackward0>)\n"
          ]
        }
      ]
    },
    {
      "cell_type": "markdown",
      "source": [
        "After this, one could implement dropout, but for the sake of simplicity we will leave it as is.\n",
        "\n",
        "Now we have attention weights for each head."
      ],
      "metadata": {
        "id": "o4M2gPp17fXb"
      }
    },
    {
      "cell_type": "markdown",
      "source": [
        "## Step 9: Calculate context vectors\n",
        "\n",
        "$$attention\\_weights * values$$\n",
        "\n",
        "Recall that the goal of the attention mechanism is to calculate the context matrix."
      ],
      "metadata": {
        "id": "QrR4Dm-D7R4Y"
      }
    },
    {
      "cell_type": "code",
      "source": [
        "context_vectors = attention_weights @ transposed_values\n",
        "print(\"Context vectors:\\n\", context_vectors)"
      ],
      "metadata": {
        "id": "QlANSXEY7sdi",
        "colab": {
          "base_uri": "https://localhost:8080/"
        },
        "outputId": "a8a85a31-9374-4bb0-ee0c-41908421f4ea"
      },
      "execution_count": 20,
      "outputs": [
        {
          "output_type": "stream",
          "name": "stdout",
          "text": [
            "Context vectors:\n",
            " tensor([[[[ 1.1584,  1.9865, -1.2399],\n",
            "          [ 1.1587,  1.9879, -1.2416],\n",
            "          [ 0.8291,  1.6919, -1.2977]],\n",
            "\n",
            "         [[ 2.4898, -4.1935,  3.7342],\n",
            "          [ 2.4816, -4.1868,  3.7202],\n",
            "          [ 1.2108, -2.2525,  1.7438]]]], grad_fn=<UnsafeViewBackward0>)\n"
          ]
        }
      ]
    },
    {
      "cell_type": "markdown",
      "source": [
        "Once again, there are 2 heads (big blocks), where each row represents the context vector for each input token, and these context vectors live in a 3D (columns) space."
      ],
      "metadata": {
        "id": "LUkSUG-SeWm4"
      }
    },
    {
      "cell_type": "markdown",
      "source": [
        "## Step 10: Reformat context vectors\n",
        "\n",
        "Now, we have to swap some dimensions in order to make them match the output dimension required. Before we performed the following\n",
        "\n",
        "(batch_size, number_of_tokens, num_heads, head_dimension) ->\n",
        "(batch_size, num_heads, number_of_tokens, head_dimension)\n",
        "\n",
        "Now, it's basically performing the opposite operation\n",
        "\n",
        "(batch_size, num_heads, number_of_tokens, head_dimension) ->\n",
        "(batch_size, number_of_tokens, num_heads, head_dimension)"
      ],
      "metadata": {
        "id": "65XnibqRfLiJ"
      }
    },
    {
      "cell_type": "code",
      "source": [
        "final_context_vectors = context_vectors.transpose(1, 2)\n",
        "print(\"Final context vectors:\\n\", final_context_vectors)"
      ],
      "metadata": {
        "colab": {
          "base_uri": "https://localhost:8080/"
        },
        "id": "6RnM8adMeJg7",
        "outputId": "431917f9-44f2-4042-81f8-3b9c65b15d56"
      },
      "execution_count": 21,
      "outputs": [
        {
          "output_type": "stream",
          "name": "stdout",
          "text": [
            "Final context vectors:\n",
            " tensor([[[[ 1.1584,  1.9865, -1.2399],\n",
            "          [ 2.4898, -4.1935,  3.7342]],\n",
            "\n",
            "         [[ 1.1587,  1.9879, -1.2416],\n",
            "          [ 2.4816, -4.1868,  3.7202]],\n",
            "\n",
            "         [[ 0.8291,  1.6919, -1.2977],\n",
            "          [ 1.2108, -2.2525,  1.7438]]]], grad_fn=<TransposeBackward0>)\n"
          ]
        }
      ]
    },
    {
      "cell_type": "markdown",
      "source": [
        "Now, the 3 big groups represent each token, and each row in each group corresponds to the representation of each head in a 3D space."
      ],
      "metadata": {
        "id": "2vfIsHrEftAG"
      }
    },
    {
      "cell_type": "markdown",
      "source": [
        "## Step 11: Combine heads\n",
        "\n",
        "Finally, we combine the representation of each head into a single representation."
      ],
      "metadata": {
        "id": "fKW6JFC_gezR"
      }
    },
    {
      "cell_type": "code",
      "source": [
        "combined_context_vectors = final_context_vectors.reshape(1, 3, 6)\n",
        "print(\"Combined context vectors:\\n\", combined_context_vectors)"
      ],
      "metadata": {
        "colab": {
          "base_uri": "https://localhost:8080/"
        },
        "id": "Nt4eE7X7fnpF",
        "outputId": "b02a7422-1e65-4560-e936-013d85d0dda0"
      },
      "execution_count": 22,
      "outputs": [
        {
          "output_type": "stream",
          "name": "stdout",
          "text": [
            "Combined context vectors:\n",
            " tensor([[[ 1.1584,  1.9865, -1.2399,  2.4898, -4.1935,  3.7342],\n",
            "         [ 1.1587,  1.9879, -1.2416,  2.4816, -4.1868,  3.7202],\n",
            "         [ 0.8291,  1.6919, -1.2977,  1.2108, -2.2525,  1.7438]]],\n",
            "       grad_fn=<UnsafeViewBackward0>)\n"
          ]
        }
      ]
    },
    {
      "cell_type": "markdown",
      "source": [
        "So we have 1 batch of 3 rows, one for each token, and they live in a `dimension_outputs=6` space as stated in the beginning.\n",
        "\n",
        "With this, we cover the Multihead attention which is at the heart of the LLM. Now we're ready to start building the LLM block by block."
      ],
      "metadata": {
        "id": "KDSh9rvshFQd"
      }
    }
  ]
}