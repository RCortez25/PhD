{
  "nbformat": 4,
  "nbformat_minor": 0,
  "metadata": {
    "colab": {
      "provenance": [],
      "authorship_tag": "ABX9TyPv2r3WI1AY0pu4Ki9+Xlnt",
      "include_colab_link": true
    },
    "kernelspec": {
      "name": "python3",
      "display_name": "Python 3"
    },
    "language_info": {
      "name": "python"
    }
  },
  "cells": [
    {
      "cell_type": "markdown",
      "metadata": {
        "id": "view-in-github",
        "colab_type": "text"
      },
      "source": [
        "<a href=\"https://colab.research.google.com/github/RCortez25/PhD/blob/main/LLM/5.%20LLM%20architecture/LLM_architecture.ipynb\" target=\"_parent\"><img src=\"https://colab.research.google.com/assets/colab-badge.svg\" alt=\"Open In Colab\"/></a>"
      ]
    },
    {
      "cell_type": "markdown",
      "source": [
        "# LLM architecture\n",
        "\n",
        "We're going to replicate GPT-2, with 124 million parameteres, whose weights are open source."
      ],
      "metadata": {
        "id": "yLLU1uXC7FfF"
      }
    },
    {
      "cell_type": "code",
      "execution_count": null,
      "metadata": {
        "id": "l_hfrcjppCAz"
      },
      "outputs": [],
      "source": [
        "# Configuration for our GPT model\n",
        "GPT_CONFIG_124M = {\n",
        "    \"vocab_size\": 50257,        # Number of words/sub-words\n",
        "    \"context_length\": 1024,     # How many words used to predict the next word\n",
        "    \"embedding_dimension\": 768, # Tokens are projected into a 768-dimensional space\n",
        "    \"number_of_heads\": 12,      # This creates 12 query, key, and value matrices\n",
        "    \"number_of_layers\": 12,     # Number of transformer blocks\n",
        "    \"dropout_rate\": 0.1,\n",
        "    \"qkv_bias\": False}"
      ]
    },
    {
      "cell_type": "markdown",
      "source": [
        "# GPT placeholder architecture\n",
        "\n",
        "We'll build a GPT placeholder architecture to gain intuition on how everything fits together. It will take the configuration we just outlined above."
      ],
      "metadata": {
        "id": "Ctj8lDkT-6aD"
      }
    },
    {
      "cell_type": "code",
      "source": [
        "import torch\n",
        "import torch.nn as nn\n",
        "\n",
        "class GPTModelPlaceholder(nn.Module):\n",
        "    def __init__(self, config):\n",
        "        super().__init__()\n",
        "        # Initialize variables using the configuration dictionary\n",
        "        # Look up table from ids to embeddings\n",
        "        self.token_embedding_table = nn.Embedding(config[\"vocab_size\"], config[\"embedding_dimension\"])\n",
        "        # Look up table from position to position embedding\n",
        "        self.position_embedding_table = nn.Embedding(config[\"context_length\"], config[\"embedding_dimension\"])\n",
        "        self.dropout_embedding = nn.Dropout(config[\"dropout_rate\"])\n",
        "\n",
        "    # Method for accepting the inputs and make the transformations\n",
        "    # The inputs are fed into the model as tokens, that is, as IDs\n",
        "    def forward(self, inputs_ids):\n",
        "        # Obtain the size of the batch and the sequence length\n",
        "        batch_size, context_length = inputs_ids.shape\n",
        "\n",
        "        # Use the lookp table to obtain embeddings given the IDs\n",
        "        token_embeddings = self.token_embedding_table(inputs_ids)\n",
        "\n",
        "        # Obtain positional embeddings\n",
        "        # Create a range object whose length will be equal to the length of the\n",
        "        # inputs\n",
        "        range_object = torch.arange(context_length, device=inputs_ids.device)\n",
        "        # Use the object to use the lookup table for obtaining the positional\n",
        "        # embeddings corresponding to each position of each token\n",
        "        position_embeddings = self.position_embedding_table(range_object)\n",
        "\n",
        "        # Add the vector embeddings\n",
        "        x = token_embeddings + position_embeddings\n",
        "\n",
        "        # Apply dropout\n",
        "        x = self.dropout_embedding(x)\n",
        "\n",
        "        # Now, the data is passed to the transformer block"
      ],
      "metadata": {
        "id": "wElJ81CM74H9"
      },
      "execution_count": null,
      "outputs": []
    },
    {
      "cell_type": "markdown",
      "source": [
        "# Example\n",
        "\n",
        "First, let's create the batch of text to be used and tokenize it."
      ],
      "metadata": {
        "id": "wkkvDCVIMe9F"
      }
    },
    {
      "cell_type": "code",
      "source": [
        "import tiktoken\n",
        "\n",
        "# Use GPT-2 encoded\n",
        "tokenizer = tiktoken.get_encoding(\"gpt2\")\n",
        "batch = []\n",
        "\n",
        "# Text to be used in the example\n",
        "text1 = \"Every effort moves you\"\n",
        "text2 = \"Every day holds a\"\n",
        "\n",
        "# Obtain the IDs of each text\n",
        "text_1_tokenized = tokenizer.encode(text1)\n",
        "text_2_tokenized = tokenizer.encode(text2)\n",
        "\n",
        "batch.append(text_1_tokenized)\n",
        "batch.append(text_2_tokenized)\n",
        "\n",
        "batch = torch.tensor(batch)\n",
        "print(batch)"
      ],
      "metadata": {
        "colab": {
          "base_uri": "https://localhost:8080/"
        },
        "id": "zRvr7S2DMgXw",
        "outputId": "063847f9-b888-4748-cc3d-b3b8792293ed"
      },
      "execution_count": null,
      "outputs": [
        {
          "output_type": "stream",
          "name": "stdout",
          "text": [
            "tensor([[6109, 3626, 6100,  345],\n",
            "        [6109, 1110, 6622,  257]])\n"
          ]
        }
      ]
    },
    {
      "cell_type": "code",
      "source": [
        "batch.shape"
      ],
      "metadata": {
        "colab": {
          "base_uri": "https://localhost:8080/"
        },
        "id": "_ZFj6NFBNGAO",
        "outputId": "f7419fdf-84b4-4289-b1ba-09d142112220"
      },
      "execution_count": null,
      "outputs": [
        {
          "output_type": "execute_result",
          "data": {
            "text/plain": [
              "torch.Size([2, 4])"
            ]
          },
          "metadata": {},
          "execution_count": 7
        }
      ]
    },
    {
      "cell_type": "code",
      "source": [],
      "metadata": {
        "id": "d5FlHtSFO0ul"
      },
      "execution_count": null,
      "outputs": []
    }
  ]
}